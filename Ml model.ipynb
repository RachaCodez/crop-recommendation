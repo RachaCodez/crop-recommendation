{
 "cells": [
  {
   "cell_type": "code",
   "id": "initial_id",
   "metadata": {
    "collapsed": true,
    "ExecuteTime": {
     "end_time": "2024-09-05T17:32:09.885353Z",
     "start_time": "2024-09-05T17:32:09.272619Z"
    }
   },
   "source": [
    "import pandas as pd\n",
    "from sklearn.model_selection import train_test_split\n",
    "from sklearn.preprocessing import StandardScaler, OneHotEncoder\n",
    "from sklearn.compose import ColumnTransformer\n",
    "from sklearn.pipeline import Pipeline\n",
    "from sklearn.ensemble import RandomForestClassifier, RandomForestRegressor\n",
    "from sklearn.metrics import accuracy_score, mean_squared_error"
   ],
   "outputs": [],
   "execution_count": 1
  },
  {
   "metadata": {
    "ExecuteTime": {
     "end_time": "2024-09-05T17:32:28.024228Z",
     "start_time": "2024-09-05T17:32:28.017361Z"
    }
   },
   "cell_type": "code",
   "source": [
    "dataset = pd.read_csv('Full.csv')\n",
    "\n",
    "features = ['Soil Type', 'Water Availability', 'Area Size', 'Season', 'Temperature', 'Rainfall', 'Crop Cycle']\n",
    "target_crop = 'Crop Recommendation'\n",
    "target_yield = 'Yield Prediction'\n",
    "target_fertilizer = 'Fertilizer Recommendation'\n",
    "target_pesticide = 'Pesticide Recommendation'"
   ],
   "id": "2ad24a2ca1b8fab2",
   "outputs": [],
   "execution_count": 2
  },
  {
   "metadata": {
    "ExecuteTime": {
     "end_time": "2024-09-05T17:32:34.400216Z",
     "start_time": "2024-09-05T17:32:34.396114Z"
    }
   },
   "cell_type": "code",
   "source": [
    "X = dataset[features]\n",
    "y_crop = dataset[target_crop]\n",
    "y_yield = dataset[target_yield]\n",
    "y_fertilizer = dataset[target_fertilizer]\n",
    "y_pesticide = dataset[target_pesticide]"
   ],
   "id": "967a8dee3543b0c8",
   "outputs": [],
   "execution_count": 3
  },
  {
   "metadata": {
    "ExecuteTime": {
     "end_time": "2024-09-05T17:32:40.564410Z",
     "start_time": "2024-09-05T17:32:40.559827Z"
    }
   },
   "cell_type": "code",
   "source": [
    "X_train, X_test, y_crop_train, y_crop_test, y_yield_train, y_yield_test, y_fertilizer_train, y_fertilizer_test, y_pesticide_train, y_pesticide_test = train_test_split(\n",
    "    X, y_crop, y_yield, y_fertilizer, y_pesticide, test_size=0.2, random_state=42)"
   ],
   "id": "b808e587093af089",
   "outputs": [],
   "execution_count": 4
  },
  {
   "metadata": {
    "ExecuteTime": {
     "end_time": "2024-09-05T17:32:47.038862Z",
     "start_time": "2024-09-05T17:32:47.035375Z"
    }
   },
   "cell_type": "code",
   "source": [
    "preprocessor = ColumnTransformer(\n",
    "    transformers=[\n",
    "        ('num', StandardScaler(), ['Area Size', 'Temperature']),\n",
    "        ('cat', OneHotEncoder(handle_unknown='ignore'), ['Soil Type', 'Water Availability', 'Season', 'Rainfall', 'Crop Cycle'])\n",
    "    ])\n"
   ],
   "id": "f1338557101966ff",
   "outputs": [],
   "execution_count": 5
  },
  {
   "metadata": {
    "ExecuteTime": {
     "end_time": "2024-09-05T17:32:54.637319Z",
     "start_time": "2024-09-05T17:32:54.633638Z"
    }
   },
   "cell_type": "code",
   "source": [
    "pipeline_crop = Pipeline(steps=[\n",
    "    ('preprocessor', preprocessor),\n",
    "    ('classifier', RandomForestClassifier())\n",
    "])\n",
    "\n",
    "# Yield Prediction model\n",
    "pipeline_yield = Pipeline(steps=[\n",
    "    ('preprocessor', preprocessor),\n",
    "    ('regressor', RandomForestRegressor())\n",
    "])\n",
    "\n",
    "# Fertilizer Recommendation model\n",
    "pipeline_fertilizer = Pipeline(steps=[\n",
    "    ('preprocessor', preprocessor),\n",
    "    ('classifier', RandomForestClassifier())\n",
    "])\n",
    "\n",
    "# Pesticide Recommendation model\n",
    "pipeline_pesticide = Pipeline(steps=[\n",
    "    ('preprocessor', preprocessor),\n",
    "    ('classifier', RandomForestClassifier())\n",
    "])"
   ],
   "id": "728d04f73d9387f9",
   "outputs": [],
   "execution_count": 6
  },
  {
   "metadata": {
    "ExecuteTime": {
     "end_time": "2024-09-05T17:33:01.148117Z",
     "start_time": "2024-09-05T17:33:00.596743Z"
    }
   },
   "cell_type": "code",
   "source": [
    "pipeline_crop.fit(X_train, y_crop_train)\n",
    "pipeline_yield.fit(X_train, y_yield_train)\n",
    "pipeline_fertilizer.fit(X_train, y_fertilizer_train)\n",
    "pipeline_pesticide.fit(X_train, y_pesticide_train)"
   ],
   "id": "4db5961b6d665771",
   "outputs": [
    {
     "data": {
      "text/plain": [
       "Pipeline(steps=[('preprocessor',\n",
       "                 ColumnTransformer(transformers=[('num', StandardScaler(),\n",
       "                                                  ['Area Size', 'Temperature']),\n",
       "                                                 ('cat',\n",
       "                                                  OneHotEncoder(handle_unknown='ignore'),\n",
       "                                                  ['Soil Type',\n",
       "                                                   'Water Availability',\n",
       "                                                   'Season', 'Rainfall',\n",
       "                                                   'Crop Cycle'])])),\n",
       "                ('classifier', RandomForestClassifier())])"
      ],
      "text/html": [
       "<style>#sk-container-id-1 {color: black;background-color: white;}#sk-container-id-1 pre{padding: 0;}#sk-container-id-1 div.sk-toggleable {background-color: white;}#sk-container-id-1 label.sk-toggleable__label {cursor: pointer;display: block;width: 100%;margin-bottom: 0;padding: 0.3em;box-sizing: border-box;text-align: center;}#sk-container-id-1 label.sk-toggleable__label-arrow:before {content: \"▸\";float: left;margin-right: 0.25em;color: #696969;}#sk-container-id-1 label.sk-toggleable__label-arrow:hover:before {color: black;}#sk-container-id-1 div.sk-estimator:hover label.sk-toggleable__label-arrow:before {color: black;}#sk-container-id-1 div.sk-toggleable__content {max-height: 0;max-width: 0;overflow: hidden;text-align: left;background-color: #f0f8ff;}#sk-container-id-1 div.sk-toggleable__content pre {margin: 0.2em;color: black;border-radius: 0.25em;background-color: #f0f8ff;}#sk-container-id-1 input.sk-toggleable__control:checked~div.sk-toggleable__content {max-height: 200px;max-width: 100%;overflow: auto;}#sk-container-id-1 input.sk-toggleable__control:checked~label.sk-toggleable__label-arrow:before {content: \"▾\";}#sk-container-id-1 div.sk-estimator input.sk-toggleable__control:checked~label.sk-toggleable__label {background-color: #d4ebff;}#sk-container-id-1 div.sk-label input.sk-toggleable__control:checked~label.sk-toggleable__label {background-color: #d4ebff;}#sk-container-id-1 input.sk-hidden--visually {border: 0;clip: rect(1px 1px 1px 1px);clip: rect(1px, 1px, 1px, 1px);height: 1px;margin: -1px;overflow: hidden;padding: 0;position: absolute;width: 1px;}#sk-container-id-1 div.sk-estimator {font-family: monospace;background-color: #f0f8ff;border: 1px dotted black;border-radius: 0.25em;box-sizing: border-box;margin-bottom: 0.5em;}#sk-container-id-1 div.sk-estimator:hover {background-color: #d4ebff;}#sk-container-id-1 div.sk-parallel-item::after {content: \"\";width: 100%;border-bottom: 1px solid gray;flex-grow: 1;}#sk-container-id-1 div.sk-label:hover label.sk-toggleable__label {background-color: #d4ebff;}#sk-container-id-1 div.sk-serial::before {content: \"\";position: absolute;border-left: 1px solid gray;box-sizing: border-box;top: 0;bottom: 0;left: 50%;z-index: 0;}#sk-container-id-1 div.sk-serial {display: flex;flex-direction: column;align-items: center;background-color: white;padding-right: 0.2em;padding-left: 0.2em;position: relative;}#sk-container-id-1 div.sk-item {position: relative;z-index: 1;}#sk-container-id-1 div.sk-parallel {display: flex;align-items: stretch;justify-content: center;background-color: white;position: relative;}#sk-container-id-1 div.sk-item::before, #sk-container-id-1 div.sk-parallel-item::before {content: \"\";position: absolute;border-left: 1px solid gray;box-sizing: border-box;top: 0;bottom: 0;left: 50%;z-index: -1;}#sk-container-id-1 div.sk-parallel-item {display: flex;flex-direction: column;z-index: 1;position: relative;background-color: white;}#sk-container-id-1 div.sk-parallel-item:first-child::after {align-self: flex-end;width: 50%;}#sk-container-id-1 div.sk-parallel-item:last-child::after {align-self: flex-start;width: 50%;}#sk-container-id-1 div.sk-parallel-item:only-child::after {width: 0;}#sk-container-id-1 div.sk-dashed-wrapped {border: 1px dashed gray;margin: 0 0.4em 0.5em 0.4em;box-sizing: border-box;padding-bottom: 0.4em;background-color: white;}#sk-container-id-1 div.sk-label label {font-family: monospace;font-weight: bold;display: inline-block;line-height: 1.2em;}#sk-container-id-1 div.sk-label-container {text-align: center;}#sk-container-id-1 div.sk-container {/* jupyter's `normalize.less` sets `[hidden] { display: none; }` but bootstrap.min.css set `[hidden] { display: none !important; }` so we also need the `!important` here to be able to override the default hidden behavior on the sphinx rendered scikit-learn.org. See: https://github.com/scikit-learn/scikit-learn/issues/21755 */display: inline-block !important;position: relative;}#sk-container-id-1 div.sk-text-repr-fallback {display: none;}</style><div id=\"sk-container-id-1\" class=\"sk-top-container\"><div class=\"sk-text-repr-fallback\"><pre>Pipeline(steps=[(&#x27;preprocessor&#x27;,\n",
       "                 ColumnTransformer(transformers=[(&#x27;num&#x27;, StandardScaler(),\n",
       "                                                  [&#x27;Area Size&#x27;, &#x27;Temperature&#x27;]),\n",
       "                                                 (&#x27;cat&#x27;,\n",
       "                                                  OneHotEncoder(handle_unknown=&#x27;ignore&#x27;),\n",
       "                                                  [&#x27;Soil Type&#x27;,\n",
       "                                                   &#x27;Water Availability&#x27;,\n",
       "                                                   &#x27;Season&#x27;, &#x27;Rainfall&#x27;,\n",
       "                                                   &#x27;Crop Cycle&#x27;])])),\n",
       "                (&#x27;classifier&#x27;, RandomForestClassifier())])</pre><b>In a Jupyter environment, please rerun this cell to show the HTML representation or trust the notebook. <br />On GitHub, the HTML representation is unable to render, please try loading this page with nbviewer.org.</b></div><div class=\"sk-container\" hidden><div class=\"sk-item sk-dashed-wrapped\"><div class=\"sk-label-container\"><div class=\"sk-label sk-toggleable\"><input class=\"sk-toggleable__control sk-hidden--visually\" id=\"sk-estimator-id-1\" type=\"checkbox\" ><label for=\"sk-estimator-id-1\" class=\"sk-toggleable__label sk-toggleable__label-arrow\">Pipeline</label><div class=\"sk-toggleable__content\"><pre>Pipeline(steps=[(&#x27;preprocessor&#x27;,\n",
       "                 ColumnTransformer(transformers=[(&#x27;num&#x27;, StandardScaler(),\n",
       "                                                  [&#x27;Area Size&#x27;, &#x27;Temperature&#x27;]),\n",
       "                                                 (&#x27;cat&#x27;,\n",
       "                                                  OneHotEncoder(handle_unknown=&#x27;ignore&#x27;),\n",
       "                                                  [&#x27;Soil Type&#x27;,\n",
       "                                                   &#x27;Water Availability&#x27;,\n",
       "                                                   &#x27;Season&#x27;, &#x27;Rainfall&#x27;,\n",
       "                                                   &#x27;Crop Cycle&#x27;])])),\n",
       "                (&#x27;classifier&#x27;, RandomForestClassifier())])</pre></div></div></div><div class=\"sk-serial\"><div class=\"sk-item sk-dashed-wrapped\"><div class=\"sk-label-container\"><div class=\"sk-label sk-toggleable\"><input class=\"sk-toggleable__control sk-hidden--visually\" id=\"sk-estimator-id-2\" type=\"checkbox\" ><label for=\"sk-estimator-id-2\" class=\"sk-toggleable__label sk-toggleable__label-arrow\">preprocessor: ColumnTransformer</label><div class=\"sk-toggleable__content\"><pre>ColumnTransformer(transformers=[(&#x27;num&#x27;, StandardScaler(),\n",
       "                                 [&#x27;Area Size&#x27;, &#x27;Temperature&#x27;]),\n",
       "                                (&#x27;cat&#x27;, OneHotEncoder(handle_unknown=&#x27;ignore&#x27;),\n",
       "                                 [&#x27;Soil Type&#x27;, &#x27;Water Availability&#x27;, &#x27;Season&#x27;,\n",
       "                                  &#x27;Rainfall&#x27;, &#x27;Crop Cycle&#x27;])])</pre></div></div></div><div class=\"sk-parallel\"><div class=\"sk-parallel-item\"><div class=\"sk-item\"><div class=\"sk-label-container\"><div class=\"sk-label sk-toggleable\"><input class=\"sk-toggleable__control sk-hidden--visually\" id=\"sk-estimator-id-3\" type=\"checkbox\" ><label for=\"sk-estimator-id-3\" class=\"sk-toggleable__label sk-toggleable__label-arrow\">num</label><div class=\"sk-toggleable__content\"><pre>[&#x27;Area Size&#x27;, &#x27;Temperature&#x27;]</pre></div></div></div><div class=\"sk-serial\"><div class=\"sk-item\"><div class=\"sk-estimator sk-toggleable\"><input class=\"sk-toggleable__control sk-hidden--visually\" id=\"sk-estimator-id-4\" type=\"checkbox\" ><label for=\"sk-estimator-id-4\" class=\"sk-toggleable__label sk-toggleable__label-arrow\">StandardScaler</label><div class=\"sk-toggleable__content\"><pre>StandardScaler()</pre></div></div></div></div></div></div><div class=\"sk-parallel-item\"><div class=\"sk-item\"><div class=\"sk-label-container\"><div class=\"sk-label sk-toggleable\"><input class=\"sk-toggleable__control sk-hidden--visually\" id=\"sk-estimator-id-5\" type=\"checkbox\" ><label for=\"sk-estimator-id-5\" class=\"sk-toggleable__label sk-toggleable__label-arrow\">cat</label><div class=\"sk-toggleable__content\"><pre>[&#x27;Soil Type&#x27;, &#x27;Water Availability&#x27;, &#x27;Season&#x27;, &#x27;Rainfall&#x27;, &#x27;Crop Cycle&#x27;]</pre></div></div></div><div class=\"sk-serial\"><div class=\"sk-item\"><div class=\"sk-estimator sk-toggleable\"><input class=\"sk-toggleable__control sk-hidden--visually\" id=\"sk-estimator-id-6\" type=\"checkbox\" ><label for=\"sk-estimator-id-6\" class=\"sk-toggleable__label sk-toggleable__label-arrow\">OneHotEncoder</label><div class=\"sk-toggleable__content\"><pre>OneHotEncoder(handle_unknown=&#x27;ignore&#x27;)</pre></div></div></div></div></div></div></div></div><div class=\"sk-item\"><div class=\"sk-estimator sk-toggleable\"><input class=\"sk-toggleable__control sk-hidden--visually\" id=\"sk-estimator-id-7\" type=\"checkbox\" ><label for=\"sk-estimator-id-7\" class=\"sk-toggleable__label sk-toggleable__label-arrow\">RandomForestClassifier</label><div class=\"sk-toggleable__content\"><pre>RandomForestClassifier()</pre></div></div></div></div></div></div></div>"
      ]
     },
     "execution_count": 7,
     "metadata": {},
     "output_type": "execute_result"
    }
   ],
   "execution_count": 7
  },
  {
   "metadata": {
    "ExecuteTime": {
     "end_time": "2024-09-05T17:33:16.975340Z",
     "start_time": "2024-09-05T17:33:16.946174Z"
    }
   },
   "cell_type": "code",
   "source": [
    "crop_predictions = pipeline_crop.predict(X_test)\n",
    "yield_predictions = pipeline_yield.predict(X_test)\n",
    "fertilizer_predictions = pipeline_fertilizer.predict(X_test)\n",
    "pesticide_predictions = pipeline_pesticide.predict(X_test)"
   ],
   "id": "8aac508fe26db0b5",
   "outputs": [],
   "execution_count": 8
  },
  {
   "metadata": {
    "ExecuteTime": {
     "end_time": "2024-09-05T17:33:25.833578Z",
     "start_time": "2024-09-05T17:33:25.828007Z"
    }
   },
   "cell_type": "code",
   "source": [
    "print(\"Crop Recommendation Accuracy:\", accuracy_score(y_crop_test, crop_predictions))\n",
    "print(\"Yield Prediction MSE:\", mean_squared_error(y_yield_test, yield_predictions))\n",
    "print(\"Fertilizer Recommendation Accuracy:\", accuracy_score(y_fertilizer_test, fertilizer_predictions))\n",
    "print(\"Pesticide Recommendation Accuracy:\", accuracy_score(y_pesticide_test, pesticide_predictions))\n"
   ],
   "id": "a8e5c41b0a7b18c9",
   "outputs": [
    {
     "name": "stdout",
     "output_type": "stream",
     "text": [
      "Crop Recommendation Accuracy: 0.635\n",
      "Yield Prediction MSE: 0.02314796000000024\n",
      "Fertilizer Recommendation Accuracy: 0.89\n",
      "Pesticide Recommendation Accuracy: 0.85\n"
     ]
    }
   ],
   "execution_count": 9
  },
  {
   "metadata": {
    "ExecuteTime": {
     "end_time": "2024-09-05T17:33:33.343284Z",
     "start_time": "2024-09-05T17:33:33.340718Z"
    }
   },
   "cell_type": "code",
   "source": [
    "def make_predictions(new_data):\n",
    "    crop_pred = pipeline_crop.predict(new_data)\n",
    "    yield_pred = pipeline_yield.predict(new_data)\n",
    "    fertilizer_pred = pipeline_fertilizer.predict(new_data)\n",
    "    pesticide_pred = pipeline_pesticide.predict(new_data)\n",
    "    return crop_pred, yield_pred, fertilizer_pred, pesticide_pred"
   ],
   "id": "2bcbde09ff61ffc7",
   "outputs": [],
   "execution_count": 10
  },
  {
   "metadata": {
    "ExecuteTime": {
     "end_time": "2024-09-05T17:33:42.468613Z",
     "start_time": "2024-09-05T17:33:42.446109Z"
    }
   },
   "cell_type": "code",
   "source": [
    "new_example = pd.DataFrame({\n",
    "    'Soil Type': ['Sandy'],\n",
    "    'Water Availability': ['low'],\n",
    "    'Area Size': [420],\n",
    "    'Season': ['summer'],\n",
    "    'Temperature': [30],\n",
    "    'Rainfall': ['high'],\n",
    "    'Crop Cycle': ['short term']\n",
    "})\n",
    "predictions = make_predictions(new_example)\n",
    "print(\"Predictions for new example:\", predictions)"
   ],
   "id": "792dcc860446b531",
   "outputs": [
    {
     "name": "stdout",
     "output_type": "stream",
     "text": [
      "Predictions for new example: (array(['Potato'], dtype=object), array([5.617]), array(['Nitrogen-rich fertilizer'], dtype=object), array(['Organic pesticide'], dtype=object))\n"
     ]
    }
   ],
   "execution_count": 11
  },
  {
   "metadata": {
    "ExecuteTime": {
     "end_time": "2024-09-05T17:44:20.099760Z",
     "start_time": "2024-09-05T17:44:20.024674Z"
    }
   },
   "cell_type": "code",
   "source": [
    "import joblib\n",
    "\n",
    "# Save the models\n",
    "joblib.dump(pipeline_crop, 'pipeline_crop.pkl')\n",
    "joblib.dump(pipeline_yield, 'pipeline_yield.pkl')\n",
    "joblib.dump(pipeline_fertilizer, 'pipeline_fertilizer.pkl')\n",
    "joblib.dump(pipeline_pesticide, 'pipeline_pesticide.pkl')\n"
   ],
   "id": "15960a43943a52f0",
   "outputs": [
    {
     "data": {
      "text/plain": [
       "['pipeline_pesticide.pkl']"
      ]
     },
     "execution_count": 12,
     "metadata": {},
     "output_type": "execute_result"
    }
   ],
   "execution_count": 12
  },
  {
   "metadata": {},
   "cell_type": "code",
   "outputs": [],
   "execution_count": null,
   "source": "",
   "id": "a5dc7066d85154fc"
  }
 ],
 "metadata": {
  "kernelspec": {
   "display_name": "Python 3",
   "language": "python",
   "name": "python3"
  },
  "language_info": {
   "codemirror_mode": {
    "name": "ipython",
    "version": 2
   },
   "file_extension": ".py",
   "mimetype": "text/x-python",
   "name": "python",
   "nbconvert_exporter": "python",
   "pygments_lexer": "ipython2",
   "version": "2.7.6"
  }
 },
 "nbformat": 4,
 "nbformat_minor": 5
}
